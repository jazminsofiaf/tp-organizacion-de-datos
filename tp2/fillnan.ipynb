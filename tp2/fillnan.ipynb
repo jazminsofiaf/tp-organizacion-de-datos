{
 "cells": [
  {
   "cell_type": "code",
   "execution_count": 1,
   "metadata": {
    "collapsed": true
   },
   "outputs": [],
   "source": [
    "import pandas as pd\n",
    "\n",
    "import numpy as np\n",
    "import unicodedata\n",
    "import re\n"
   ]
  },
  {
   "cell_type": "code",
   "execution_count": 2,
   "metadata": {
    "collapsed": true
   },
   "outputs": [],
   "source": [
    "\n",
    "def date_to_float(dt64):\n",
    "    return (dt64 - np.datetime64('2013-01-01T00:00:00Z')) / np.timedelta64(1, 's')\n",
    "\n",
    "\n",
    "def define_category(d):\n",
    "    if(\"picina\" in d or \"garage\" in d):\n",
    "        return 0.75\n",
    "\n",
    "    if(\"pileta\" in d or \"cochera\" in d):\n",
    "        return 0.70\n",
    "\n",
    "    if(\"gimnasio\" in d):\n",
    "        return 0.50\n",
    "    \n",
    "    if(\"sum\" in d):\n",
    "        return 0.30\n",
    "    \n",
    "    if(\"reciclar\" in d or \"refaccionar\" in d ):\n",
    "        return -0.70\n",
    "    return 0\n",
    "\n",
    "propertytype = {}\n",
    "propertytype[0] = 0\n",
    "propertytype[\"appartment\"] = 1\n",
    "propertytype[\"apartment\"] = 1\n",
    "propertytype[\"departamento\"] = 1\n",
    "propertytype[\"house\"] = 2\n",
    "propertytype[\"casa\"] = 2\n",
    "propertytype[\"PH\"] = 3\n",
    "propertytype[\"ph\"] = 3\n",
    "propertytype[\"store\"] = 4\n",
    "propertytype[\"local\"] = 4\n",
    "   \n",
    "\n",
    "def fill_nan_and_convert_to_float(datos):\n",
    "    \n",
    "    columns = ['id','created_on','property_type','lat','lon', 'place_name','state_name',\n",
    "                 'surface_total_in_m2','surface_covered_in_m2','description',\n",
    "                 'floor','rooms','expenses', 'price_aprox_usd','price_usd_per_m2','is_to']\n",
    "    datos = datos.loc[:,columns]\n",
    "    #tipo de propiedad\n",
    "    datos[\"property_type\"] = datos.property_type.map(lambda t: propertytype.get(t))\n",
    "    #descripcion\n",
    "    datos[\"description\"] = datos.description.map(lambda d: define_category(str(d)))\n",
    "    #fecha\n",
    "    datos[\"created_on\"] =  pd.to_datetime(datos['created_on'])\n",
    "    datos['created_on'] = datos['created_on'].map(lambda dt64 :date_to_float(dt64))\n",
    "    #barrios a numeros\n",
    "    datos[\"place_name\"] = pd.Categorical(datos.place_name)\n",
    "    datos[\"place_name\"] = datos.place_name.cat.codes\n",
    "    #zonas a numeros\n",
    "    datos[\"state_name\"] = pd.Categorical(datos.state_name)\n",
    "    datos[\"state_name\"] = datos.state_name.cat.codes\n",
    "    #latitud y longitud la relleno con el promedio del barrio\n",
    "    datos['lat'] = datos.groupby('place_name')['lat'].apply(lambda x: x.fillna(x.mean()))\n",
    "    datos['lon'] = datos.groupby('place_name')['lon'].apply(lambda x: x.fillna(x.mean()))\n",
    "    #para el tamaño total de la propiedad uso el promedio del barrio\n",
    "    datos[\"surface_total_in_m2\"] = datos[\"surface_total_in_m2\"].map(lambda t: np.NaN if(t== 0 ) else t)\n",
    "    datos[\"surface_total_in_m2\"] = datos.groupby('place_name')['surface_total_in_m2'].apply(lambda x: x.fillna(x.mean()))\n",
    "    #tamaño cubierto, tomo el total de la fila\n",
    "    datos[\"surface_covered_in_m2\"] = datos['surface_covered_in_m2'].fillna(datos['surface_total_in_m2'])\n",
    "    #relleno el piso y las habitaciones con la moda del barrio\n",
    "    datos[\"floor\"] = datos.groupby('place_name')['floor'].fillna(datos.dropna(subset=['floor']).floor.value_counts().idxmax())\n",
    "    datos[\"rooms\"] = datos.groupby('place_name')['rooms'].fillna(datos.dropna(subset=['rooms']).floor.value_counts().idxmax())\n",
    "     #si en el campo de las expensas dice no, entonces le asigno expensas cero\n",
    "    datos[\"expenses\"] = datos[\"expenses\"].map(lambda exp: \"0\" if(re.search(str(exp), 'no', re.IGNORECASE)) else str(exp))                                                      \n",
    "    #si no tiene un valor numerico lo cambio a nan para luego asignarle el promedio del barrio                                                   \n",
    "    datos[\"expenses\"] = datos[\"expenses\"].map(lambda exp: re.sub(\"[^0-9]\", \"\",str(exp) ))\n",
    "    datos[\"expenses\"] = datos[\"expenses\"].map(lambda exp: np.NaN if(str(exp)== \"\") else exp)\n",
    "    datos[\"expenses\"] = datos[\"expenses\"].map(lambda exp: float(exp))\n",
    "    datos[\"expenses\"] = datos.groupby('place_name')['expenses'].apply(lambda x: x.fillna(x.mean()))\n",
    "    \n",
    "    \n",
    "    #por si queda algun nan\n",
    "    datos.fillna(0, inplace=True)\n",
    "    \n",
    "    return datos"
   ]
  },
  {
   "cell_type": "code",
   "execution_count": 3,
   "metadata": {
    "collapsed": true
   },
   "outputs": [],
   "source": [
    "def delete_signs(text):\n",
    "    return ''.join([i if ord(i) < 128 else ' ' for i in text])\n",
    "def delete_accent_mark(s):\n",
    "    return ''.join((c for c in unicodedata.normalize('NFD', s) if unicodedata.category(c) != 'Mn'))\n",
    "\n",
    "def unificate_description(d):\n",
    "    if(pd.notnull(d)):\n",
    "        return delete_signs(delete_accent_mark(d).lower())\n",
    "    return d\n",
    "    "
   ]
  },
  {
   "cell_type": "code",
   "execution_count": 4,
   "metadata": {
    "collapsed": true
   },
   "outputs": [],
   "source": [
    "#lista con todos los barrios posibles sin repetir (sin tildes y en minuscula)\n",
    "def get_neighborhoods(properati_df,nombre_conj_barios):\n",
    "    neighborhoods = properati_df[pd.notnull(properati_df['place_name'])].place_name\n",
    "    neighborhoods = neighborhoods.drop_duplicates(keep='first')\n",
    "    neighborhoods = neighborhoods.map(lambda b: delete_accent_mark(b).lower())\n",
    "    neighborhoods.replace(nombre_conj_barios, \"sin barrio\", inplace = True)\n",
    "    return neighborhoods\n",
    "\n",
    "\n",
    "\n",
    "def get_place_name(data):\n",
    "\n",
    "    places =[]\n",
    "    for index, row in data.iterrows():\n",
    "        if(pd.notnull(row['place_name_y']) and (row['place_name_y']!=\"sin barrio\") ):\n",
    "            places.append(row['place_name_y'].title())\n",
    "        else:\n",
    "            if(pd.notnull(row['place_name_x'])):\n",
    "                places.append(row['place_name_x'].title())\n",
    "            else:\n",
    "                places.append(row['place_name_x'])\n",
    "    return places\n",
    "\n",
    "\n",
    "\n",
    "def assign_neighborhoods(description,neighborhoods):\n",
    "    for neighborhood in neighborhoods:\n",
    "        if(str(description.encode('utf-8')).find(neighborhood) >= 0):\n",
    "              return neighborhood\n",
    "    return \"sin barrio\"\n",
    "\n",
    "\n",
    "\n",
    "\n",
    "def guess_neighborhoods(df,  nombre_conj_barios):\n",
    "    \n",
    "    neighborhoods = get_neighborhoods(df,nombre_conj_barios)\n",
    "\n",
    "    sin_barrio = df.loc[df.place_name.str.contains(nombre_conj_barios , na=False),:]\n",
    "    sin_barrio = pd.concat([sin_barrio,df.loc[pd.isnull(df.place_name),:]])\n",
    "    sin_barrio.place_name = sin_barrio.description.map(lambda description: assign_neighborhoods(description,neighborhoods))\n",
    "\n",
    "    \n",
    "    barrio_asignado = sin_barrio.loc[sin_barrio.place_name.str.contains(\"sin barrio\", na=False) == False,:]\n",
    "    \n",
    "\n",
    "    columns =['country_name', 'created_on', 'currency', 'description',\n",
    "       'expenses', 'extra', 'floor', 'geonames_id', 'id',\n",
    "       'image_thumbnail', 'lat', 'lat-lon', 'lon', 'operation',\n",
    "       'place_with_parent_names', 'price',\n",
    "       'price_aprox_local_currency', 'price_aprox_usd', 'price_per_m2',\n",
    "       'price_usd_per_m2', 'properati_url', 'property_type', 'rooms',\n",
    "       'state_name', 'surface_covered_in_m2', 'surface_in_m2',\n",
    "       'surface_total_in_m2', 'title','is_to']\n",
    "    \n",
    "    \n",
    "    properati_barrios = pd.merge(df, barrio_asignado,how='outer', on=columns)\n",
    "    \n",
    "    properati_barrios['place_name']= get_place_name(properati_barrios)\n",
    "    columns.append('place_name')\n",
    "    properati_barrios=properati_barrios.loc[:,columns]\n",
    "    \n",
    "    return properati_barrios"
   ]
  },
  {
   "cell_type": "code",
   "execution_count": 5,
   "metadata": {
    "collapsed": true
   },
   "outputs": [],
   "source": [
    "def get_df_properati_to_predict(df):\n",
    "\n",
    "    df.description = df.description.map(lambda d: unificate_description(d))\n",
    "    df.place_name = df.place_name.map(lambda p: unificate_description(p))\n",
    "    \n",
    "    guess_neighborhoods(df,\"Capital Federal\")\n",
    "    guess_neighborhoods(df,\"Buenos Aires Interior\")\n",
    "    \n",
    "    return fill_nan_and_convert_to_float(df)"
   ]
  },
  {
   "cell_type": "code",
   "execution_count": null,
   "metadata": {
    "collapsed": true
   },
   "outputs": [],
   "source": []
  },
  {
   "cell_type": "code",
   "execution_count": 6,
   "metadata": {},
   "outputs": [
    {
     "name": "stderr",
     "output_type": "stream",
     "text": [
      "/home/jaz/fiuba/orga-de-datos-7506/lib/python2.7/site-packages/ipykernel_launcher.py:3: DeprecationWarning: parsing timezone aware datetimes is deprecated; this will raise an error in the future\n",
      "  This is separate from the ipykernel package so we can avoid doing imports until\n"
     ]
    }
   ],
   "source": [
    "properati_no_price= pd.read_csv('../pruebas_tp2/properati_dataset_testing_noprice.csv',encoding='UTF-8')\n",
    "properati_no_price['is_to'] ='predict'\n",
    "\n",
    "properati_filtered= pd.read_csv('../pruebas_tp2/properati_filtered1.csv',encoding='UTF-8')\n",
    "properati_filtered['is_to'] = 'train'\n",
    "\n",
    "properati_filled =  properati_filtered.append(properati_no_price,ignore_index=True)\n",
    "properati_filled = get_df_properati_to_predict(properati_filled)"
   ]
  },
  {
   "cell_type": "code",
   "execution_count": 7,
   "metadata": {
    "collapsed": true
   },
   "outputs": [],
   "source": [
    "df_to_train= properati_filled.loc[properati_filled['is_to'] == 'train',['created_on','property_type','lat','lon', 'place_name','state_name',\n",
    "                 'surface_total_in_m2','surface_covered_in_m2','description',\n",
    "                 'floor','rooms','expenses', 'price_aprox_usd','price_usd_per_m2']]\n",
    "\n",
    "df_to_predict= properati_filled.loc[properati_filled['is_to'] == 'predict',['id','created_on','property_type','lat','lon', 'place_name','state_name',\n",
    "                 'surface_total_in_m2','surface_covered_in_m2','description',\n",
    "                 'floor','rooms','expenses']]"
   ]
  },
  {
   "cell_type": "markdown",
   "metadata": {},
   "source": [
    "# PRUEBAS"
   ]
  },
  {
   "cell_type": "code",
   "execution_count": 8,
   "metadata": {},
   "outputs": [
    {
     "name": "stdout",
     "output_type": "stream",
     "text": [
      "(78674, 30)\n",
      "(78674, 14)\n",
      "(14166, 13)\n"
     ]
    }
   ],
   "source": [
    "print properati_filtered.shape\n",
    "print df_to_train.shape\n",
    "\n",
    "print df_to_predict.shape"
   ]
  },
  {
   "cell_type": "code",
   "execution_count": 9,
   "metadata": {},
   "outputs": [
    {
     "data": {
      "text/plain": [
       "524"
      ]
     },
     "execution_count": 9,
     "metadata": {},
     "output_type": "execute_result"
    }
   ],
   "source": [
    "len(df_to_train.place_name.drop_duplicates(keep='first'))"
   ]
  },
  {
   "cell_type": "code",
   "execution_count": 12,
   "metadata": {},
   "outputs": [
    {
     "name": "stdout",
     "output_type": "stream",
     "text": [
      "0    2\n",
      "1    1\n",
      "2    4\n",
      "3    3\n",
      "Name: property_type, dtype: int64\n"
     ]
    }
   ],
   "source": [
    "print df_to_train.property_type.drop_duplicates(keep='first')"
   ]
  },
  {
   "cell_type": "code",
   "execution_count": 10,
   "metadata": {},
   "outputs": [
    {
     "data": {
      "text/plain": [
       "524"
      ]
     },
     "execution_count": 10,
     "metadata": {},
     "output_type": "execute_result"
    }
   ],
   "source": [
    "len(df_to_train.place_name.unique())"
   ]
  },
  {
   "cell_type": "code",
   "execution_count": 20,
   "metadata": {},
   "outputs": [
    {
     "data": {
      "text/plain": [
       "34335"
      ]
     },
     "execution_count": 20,
     "metadata": {},
     "output_type": "execute_result"
    }
   ],
   "source": [
    "df_to_train.state_name.drop_duplicates(keep='first')\n",
    "len(df_to_train.loc[df_to_train.state_name == 4,:])"
   ]
  },
  {
   "cell_type": "code",
   "execution_count": 11,
   "metadata": {
    "collapsed": true
   },
   "outputs": [],
   "source": [
    "\n",
    "\n",
    "df_to_train.to_csv('data_filled_ready_to_train2.csv',encoding='utf-8',index=False)\n",
    "\n",
    "\n",
    "df_to_predict.to_csv('data_filled_ready_to_predict2.csv',encoding='utf-8',index=False)"
   ]
  },
  {
   "cell_type": "markdown",
   "metadata": {},
   "source": [
    "# Fin"
   ]
  },
  {
   "cell_type": "code",
   "execution_count": 176,
   "metadata": {},
   "outputs": [
    {
     "name": "stdout",
     "output_type": "stream",
     "text": [
      "0     departamento\n",
      "47              ph\n",
      "53            casa\n",
      "Name: property_type, dtype: object\n",
      "0        house\n",
      "1    apartment\n",
      "2        store\n",
      "3           PH\n",
      "Name: property_type, dtype: object\n"
     ]
    }
   ],
   "source": [
    "properati_no_price= pd.read_csv('../tp1/properati_dataset_testing_noprice.csv',encoding='UTF-8')\n",
    "print properati_no_price.property_type.drop_duplicates(keep='first')\n",
    "\n",
    "\n",
    "properati_filtered= pd.read_csv('../tp1/properati_filtered1.csv',encoding='UTF-8')\n",
    "print properati_filtered.property_type.drop_duplicates(keep='first')\n",
    "\n"
   ]
  },
  {
   "cell_type": "code",
   "execution_count": 22,
   "metadata": {},
   "outputs": [
    {
     "data": {
      "text/plain": [
       "0                    Puerto Madero\n",
       "1            Buenos Aires Interior\n",
       "2                     Palermo Soho\n",
       "3                        Chacarita\n",
       "8                       Colegiales\n",
       "9                          Almagro\n",
       "13                        Belgrano\n",
       "14                    Villa Crespo\n",
       "41                       Caballito\n",
       "47                           Boedo\n",
       "48                Parque Patricios\n",
       "49                   Palermo Chico\n",
       "51                         Palermo\n",
       "52                        Recoleta\n",
       "53                 Lomas de Zamora\n",
       "54                          Flores\n",
       "56                        La Plata\n",
       "58                       Temperley\n",
       "60                           Nuñez\n",
       "61                       Mataderos\n",
       "62                           Morón\n",
       "63                 Capital Federal\n",
       "64                       Monserrat\n",
       "65                         Caseros\n",
       "66                            Boca\n",
       "90                        Banfield\n",
       "92               Palermo Hollywood\n",
       "95               Altos de Hudson I\n",
       "105                  Villa Urquiza\n",
       "111                   Monte Grande\n",
       "                   ...            \n",
       "4788           Echeverría del Lago\n",
       "4797                  Villa Elvira\n",
       "4799                  Arturo Seguí\n",
       "4968                  Villa Celina\n",
       "5209     La horqueta de Echeverría\n",
       "5221                    Terralagos\n",
       "5683                      El Pilar\n",
       "5984                      El Rocío\n",
       "5995              Solar del Bosque\n",
       "6256         Country Nuevo Quilmes\n",
       "6295               Villa Riachuelo\n",
       "7274                Tristán Suárez\n",
       "7455        Bs.As. G.B.A. Zona Sur\n",
       "7473       Country Banco Provincia\n",
       "7895                 Vicente López\n",
       "7920            General San Martín\n",
       "7961             Carlos Spegazzini\n",
       "8090                      Claypole\n",
       "8176         Gregorio de Laferrere\n",
       "8180                González Catán\n",
       "8457                       Bosques\n",
       "8897                      La Unión\n",
       "9114                Mariano Acosta\n",
       "9186             Country El Venado\n",
       "9243                Melchor Romero\n",
       "9775         Barrio Cerrado Malibú\n",
       "10458                   9 de Abril\n",
       "12228                   San Carlos\n",
       "12716                   Aldo Bonzi\n",
       "12838          Abril Club de Campo\n",
       "Name: place_name, Length: 223, dtype: object"
      ]
     },
     "execution_count": 22,
     "metadata": {},
     "output_type": "execute_result"
    }
   ],
   "source": [
    "properati_no_price.place_name.drop_duplicates(keep='first')"
   ]
  },
  {
   "cell_type": "code",
   "execution_count": 178,
   "metadata": {},
   "outputs": [
    {
     "data": {
      "text/plain": [
       "78674    3\n",
       "78721    5\n",
       "78727    2\n",
       "Name: property_type, dtype: int8"
      ]
     },
     "execution_count": 178,
     "metadata": {},
     "output_type": "execute_result"
    }
   ],
   "source": [
    "df_to_predict.property_type.drop_duplicates(keep='first')"
   ]
  },
  {
   "cell_type": "code",
   "execution_count": 179,
   "metadata": {
    "collapsed": true
   },
   "outputs": [],
   "source": [
    "properati_no_price= pd.read_csv('../tp1/properati_dataset_testing_noprice.csv',encoding='UTF-8')\n",
    "properati_no_price['is_to'] ='predict'\n",
    "\n",
    "properati_filtered= pd.read_csv('../tp1/properati_filtered1.csv',encoding='UTF-8')\n",
    "properati_filtered['is_to'] = 'train'\n",
    "\n",
    "properati_filled =  properati_filtered.append(properati_no_price,ignore_index=True)"
   ]
  },
  {
   "cell_type": "code",
   "execution_count": 180,
   "metadata": {},
   "outputs": [
    {
     "data": {
      "text/plain": [
       "0                           Capital Federal\n",
       "1                               San Nicolás\n",
       "2                              Constitución\n",
       "3                                 San Telmo\n",
       "4                              Barrio Norte\n",
       "5                                      Boca\n",
       "6                                     Nuñez\n",
       "7                                  Belgrano\n",
       "8                             Puerto Madero\n",
       "9                                  Floresta\n",
       "11                                  Palermo\n",
       "13                                 Congreso\n",
       "14                            San Cristobal\n",
       "16                                 Recoleta\n",
       "23                                Monserrat\n",
       "24                                Caballito\n",
       "32                                Balvanera\n",
       "35                     Centro / Microcentro\n",
       "45                              Las Cañitas\n",
       "47                             Villa Crespo\n",
       "50                            Villa Urquiza\n",
       "51                                Mataderos\n",
       "57                                   Retiro\n",
       "62                                 Saavedra\n",
       "67                                    Boedo\n",
       "71                                   Flores\n",
       "83                         Parque Patricios\n",
       "96                                 Paternal\n",
       "97                                  Almagro\n",
       "98                                  Coghlan\n",
       "                        ...                \n",
       "75596                        William Morris\n",
       "75754           Barrio Privado Los Olivares\n",
       "76001                             Sourigues\n",
       "76577                      Villa Monteagudo\n",
       "76727                    Medal Country Club\n",
       "76803                         Barrio Vistas\n",
       "76848            Barrio Cerrado \"La Merced\"\n",
       "76921        Barrio Cerrado \"La Candelaria\"\n",
       "77718           Barrio Cerrado \"Los Condes\"\n",
       "77752         Barrio Cerrado \"La Rinconada\"\n",
       "78431    Barrio Cerrado El Casco de Alvarez\n",
       "78675                 Buenos Aires Interior\n",
       "78769                     Altos de Hudson I\n",
       "79372                           Uribelarrea\n",
       "79441                           Villa Brown\n",
       "81156                          Villa España\n",
       "81306                               Pereyra\n",
       "81407                  Ingeniero Juan Allan\n",
       "81488            Barrio Privado El Resuello\n",
       "81695                        Villa Numancia\n",
       "81719                  San Francisco Solano\n",
       "81872            Los Pingüinos Country Club\n",
       "83473                          Arturo Seguí\n",
       "84357                              El Pilar\n",
       "86147               Country Banco Provincia\n",
       "87131                               Bosques\n",
       "87788                        Mariano Acosta\n",
       "87917                        Melchor Romero\n",
       "88449                 Barrio Cerrado Malibú\n",
       "89132                            9 de Abril\n",
       "Name: place_name, Length: 543, dtype: object"
      ]
     },
     "execution_count": 180,
     "metadata": {},
     "output_type": "execute_result"
    }
   ],
   "source": [
    "properati_all.place_name.drop_duplicates(keep='first')\n",
    "\n",
    "\n"
   ]
  },
  {
   "cell_type": "code",
   "execution_count": null,
   "metadata": {
    "collapsed": true
   },
   "outputs": [],
   "source": []
  }
 ],
 "metadata": {
  "kernelspec": {
   "display_name": "Python 2",
   "language": "python",
   "name": "python2"
  },
  "language_info": {
   "codemirror_mode": {
    "name": "ipython",
    "version": 2
   },
   "file_extension": ".py",
   "mimetype": "text/x-python",
   "name": "python",
   "nbconvert_exporter": "python",
   "pygments_lexer": "ipython2",
   "version": "2.7.13"
  }
 },
 "nbformat": 4,
 "nbformat_minor": 2
}
