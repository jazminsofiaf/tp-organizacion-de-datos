{
 "cells": [
  {
   "cell_type": "code",
   "execution_count": 74,
   "metadata": {
    "collapsed": true
   },
   "outputs": [],
   "source": [
    "import pandas as pd\n",
    "import numpy as np\n",
    "import seaborn as sns\n",
    "import matplotlib.pyplot as plt\n",
    "from mpl_toolkits.basemap import Basemap\n",
    "from pandas import Series\n",
    "\n",
    "%matplotlib inline"
   ]
  },
  {
   "cell_type": "code",
   "execution_count": 75,
   "metadata": {
    "collapsed": true
   },
   "outputs": [],
   "source": [
    "from sklearn import datasets\n",
    "from sklearn.linear_model import LinearRegression\n",
    "from sklearn.metrics import mean_squared_error, r2_score\n",
    "from sklearn.model_selection import train_test_split"
   ]
  },
  {
   "cell_type": "code",
   "execution_count": 147,
   "metadata": {
    "collapsed": true
   },
   "outputs": [],
   "source": [
    "properati_filtered= pd.read_csv('../tp1/properati_filtered1.csv',encoding='UTF-8')\n",
    "capitalFederal = properati_filtered.loc[properati_filtered.state_name.str.contains(\"Capital Federal\", na=False),:]\n",
    "Abasto =  capitalFederal.loc[capitalFederal.place_name.str.contains(\"Abasto\", na=False),:]\n"
   ]
  },
  {
   "cell_type": "code",
   "execution_count": 148,
   "metadata": {},
   "outputs": [
    {
     "data": {
      "text/plain": [
       "array([u'country_name', u'created_on', u'currency', u'description',\n",
       "       u'expenses', u'extra', u'floor', u'geonames_id', u'id',\n",
       "       u'image_thumbnail', u'lat', u'lat-lon', u'lon', u'operation',\n",
       "       u'place_name', u'place_with_parent_names', u'price',\n",
       "       u'price_aprox_local_currency', u'price_aprox_usd', u'price_per_m2',\n",
       "       u'price_usd_per_m2', u'properati_url', u'property_type', u'rooms',\n",
       "       u'state_name', u'surface_covered_in_m2', u'surface_in_m2',\n",
       "       u'surface_total_in_m2', u'title'], dtype=object)"
      ]
     },
     "execution_count": 148,
     "metadata": {},
     "output_type": "execute_result"
    }
   ],
   "source": [
    "Abasto.columns.values"
   ]
  },
  {
   "cell_type": "code",
   "execution_count": 150,
   "metadata": {
    "collapsed": true
   },
   "outputs": [],
   "source": [
    "Abasto = Abasto.loc[:,['created_on','expenses','lat','lon','property_type','surface_covered_in_m2','price_usd_per_m2']]"
   ]
  },
  {
   "cell_type": "code",
   "execution_count": 151,
   "metadata": {
    "collapsed": true
   },
   "outputs": [],
   "source": [
    "#quito las filas con valor Nan \n",
    "Abasto = Abasto[pd.notnull(Abasto['created_on'])]\n",
    "Abasto = Abasto[np.isfinite(Abasto['expenses'])]\n",
    "Abasto = Abasto[pd.notnull(Abasto['lat'])]\n",
    "Abasto = Abasto[pd.notnull(Abasto['lon'])]\n",
    "Abasto = Abasto[pd.notnull(Abasto['property_type'])]\n",
    "Abasto = Abasto[np.isfinite(Abasto['surface_covered_in_m2'])]\n",
    "Abasto = Abasto[np.isfinite(Abasto['price_usd_per_m2'])]\n"
   ]
  },
  {
   "cell_type": "code",
   "execution_count": 152,
   "metadata": {},
   "outputs": [
    {
     "name": "stderr",
     "output_type": "stream",
     "text": [
      "/home/jaz/fiuba/orga-de-datos-7506/lib/python2.7/site-packages/ipykernel_launcher.py:12: DeprecationWarning: parsing timezone aware datetimes is deprecated; this will raise an error in the future\n",
      "  if sys.path[0] == '':\n"
     ]
    },
    {
     "data": {
      "text/plain": [
       "created_on               float64\n",
       "expenses                 float64\n",
       "lat                      float64\n",
       "lon                      float64\n",
       "property_type              int64\n",
       "surface_covered_in_m2    float64\n",
       "price_usd_per_m2         float64\n",
       "dtype: object"
      ]
     },
     "execution_count": 152,
     "metadata": {},
     "output_type": "execute_result"
    }
   ],
   "source": [
    "#convierto todo a float\n",
    "propertytype = {}\n",
    "propertytype[\"appartment\"] = 1\n",
    "propertytype[\"apartment\"] = 1\n",
    "propertytype[\"house\"] = 2\n",
    "propertytype[\"PH\"] = 3\n",
    "propertytype[\"store\"] = 4\n",
    "Abasto[\"property_type\"] = Abasto.property_type.map(lambda t: propertytype.get(t))\n",
    "\n",
    "\n",
    "Abasto[\"created_on\"] =  pd.to_datetime(Abasto['created_on'])\n",
    "def date_to_float(dt64):\n",
    "    return (dt64 - np.datetime64('2013-01-01T00:00:00Z')) / np.timedelta64(1, 's')\n",
    "Abasto['created_on'] = Abasto['created_on'].map(lambda dt64 :date_to_float(dt64))\n",
    "\n",
    "Abasto.dtypes\n"
   ]
  },
  {
   "cell_type": "code",
   "execution_count": 154,
   "metadata": {},
   "outputs": [],
   "source": [
    "X = Abasto.loc[:,['created_on','expenses','lat','lon','property_type','surface_covered_in_m2']]\n",
    "y = Abasto.price_usd_per_m2"
   ]
  },
  {
   "cell_type": "code",
   "execution_count": 159,
   "metadata": {},
   "outputs": [],
   "source": [
    "# divido en training/testing sets\n",
    "X_train, X_test, y_train, y_test = train_test_split(X, y, test_size=0.15, random_state=42)"
   ]
  },
  {
   "cell_type": "code",
   "execution_count": 160,
   "metadata": {
    "collapsed": true
   },
   "outputs": [],
   "source": [
    "#Creo una linear regression\n",
    "regr = LinearRegression()"
   ]
  },
  {
   "cell_type": "code",
   "execution_count": 161,
   "metadata": {},
   "outputs": [
    {
     "data": {
      "text/plain": [
       "LinearRegression(copy_X=True, fit_intercept=True, n_jobs=1, normalize=False)"
      ]
     },
     "execution_count": 161,
     "metadata": {},
     "output_type": "execute_result"
    }
   ],
   "source": [
    "# entrenamiento\n",
    "regr.fit(X_train, y_train)"
   ]
  },
  {
   "cell_type": "code",
   "execution_count": 162,
   "metadata": {},
   "outputs": [
    {
     "data": {
      "text/plain": [
       "8"
      ]
     },
     "execution_count": 162,
     "metadata": {},
     "output_type": "execute_result"
    }
   ],
   "source": [
    "# Hago las predicciones\n",
    "predictions = regr.predict(X_test) #deberian parecerse a Abasto_y_test\n"
   ]
  },
  {
   "cell_type": "code",
   "execution_count": 165,
   "metadata": {},
   "outputs": [
    {
     "name": "stdout",
     "output_type": "stream",
     "text": [
      "Mean squared error: 113008.16\n"
     ]
    }
   ],
   "source": [
    "# el error cuadratico medio\n",
    "print(\"Mean squared error: %.2f\"\n",
    "      % mean_squared_error(y_test, predictions))"
   ]
  },
  {
   "cell_type": "code",
   "execution_count": 167,
   "metadata": {},
   "outputs": [
    {
     "data": {
      "text/plain": [
       "11.51872309793363"
      ]
     },
     "execution_count": 167,
     "metadata": {},
     "output_type": "execute_result"
    }
   ],
   "source": [
    "porcent =(predictions-y_test)*100/y_test\n",
    "porcent.mean()"
   ]
  },
  {
   "cell_type": "code",
   "execution_count": null,
   "metadata": {
    "collapsed": true
   },
   "outputs": [],
   "source": []
  }
 ],
 "metadata": {
  "kernelspec": {
   "display_name": "Python 2",
   "language": "python",
   "name": "python2"
  },
  "language_info": {
   "codemirror_mode": {
    "name": "ipython",
    "version": 2
   },
   "file_extension": ".py",
   "mimetype": "text/x-python",
   "name": "python",
   "nbconvert_exporter": "python",
   "pygments_lexer": "ipython2",
   "version": "2.7.13"
  }
 },
 "nbformat": 4,
 "nbformat_minor": 2
}
