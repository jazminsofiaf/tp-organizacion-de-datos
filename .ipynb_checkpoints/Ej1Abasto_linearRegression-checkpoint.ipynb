{
 "cells": [
  {
   "cell_type": "code",
   "execution_count": 31,
   "metadata": {
    "collapsed": true
   },
   "outputs": [],
   "source": [
    "import pandas as pd\n",
    "import numpy as np\n",
    "import seaborn as sns\n",
    "import matplotlib.pyplot as plt\n",
    "from mpl_toolkits.basemap import Basemap\n",
    "from pandas import Series\n",
    "\n",
    "%matplotlib inline"
   ]
  },
  {
   "cell_type": "markdown",
   "metadata": {},
   "source": [
    "# Ejemplo de regresion lineal para el barrio del abasto"
   ]
  },
  {
   "cell_type": "markdown",
   "metadata": {},
   "source": [
    "La siguiente es una prueba de regrsion lineal sobre el barrio de abasto.\n",
    "el valor objetivo (target) es el precio en dolares por metro cuadrado, \n",
    "y se calcula en funcion de los metros cuadrados\n"
   ]
  },
  {
   "cell_type": "code",
   "execution_count": 1,
   "metadata": {
    "collapsed": true
   },
   "outputs": [],
   "source": [
    "from sklearn import datasets\n",
    "from sklearn.linear_model import LinearRegression\n",
    "from sklearn.metrics import mean_squared_error, r2_score\n",
    "from sklearn.model_selection import train_test_split"
   ]
  },
  {
   "cell_type": "code",
   "execution_count": 13,
   "metadata": {},
   "outputs": [
    {
     "data": {
      "text/html": [
       "<div>\n",
       "<style>\n",
       "    .dataframe thead tr:only-child th {\n",
       "        text-align: right;\n",
       "    }\n",
       "\n",
       "    .dataframe thead th {\n",
       "        text-align: left;\n",
       "    }\n",
       "\n",
       "    .dataframe tbody tr th {\n",
       "        vertical-align: top;\n",
       "    }\n",
       "</style>\n",
       "<table border=\"1\" class=\"dataframe\">\n",
       "  <thead>\n",
       "    <tr style=\"text-align: right;\">\n",
       "      <th></th>\n",
       "      <th>country_name</th>\n",
       "      <th>created_on</th>\n",
       "      <th>currency</th>\n",
       "      <th>description</th>\n",
       "      <th>expenses</th>\n",
       "      <th>extra</th>\n",
       "      <th>floor</th>\n",
       "      <th>geonames_id</th>\n",
       "      <th>id</th>\n",
       "      <th>image_thumbnail</th>\n",
       "      <th>...</th>\n",
       "      <th>price_per_m2</th>\n",
       "      <th>price_usd_per_m2</th>\n",
       "      <th>properati_url</th>\n",
       "      <th>property_type</th>\n",
       "      <th>rooms</th>\n",
       "      <th>state_name</th>\n",
       "      <th>surface_covered_in_m2</th>\n",
       "      <th>surface_in_m2</th>\n",
       "      <th>surface_total_in_m2</th>\n",
       "      <th>title</th>\n",
       "    </tr>\n",
       "  </thead>\n",
       "  <tbody>\n",
       "    <tr>\n",
       "      <th>33024</th>\n",
       "      <td>Argentina</td>\n",
       "      <td>2017-06-08</td>\n",
       "      <td>USD</td>\n",
       "      <td>AMPLIO MONOAMBIENTE DIVISIBLE DE 46M2 - COCINA...</td>\n",
       "      <td>NaN</td>\n",
       "      <td>NaN</td>\n",
       "      <td>NaN</td>\n",
       "      <td>NaN</td>\n",
       "      <td>e719722661730432e94f000ea452758bec621a4c</td>\n",
       "      <td>https://thumbs4.properati.com/4/T5ttreG1sX5fVm...</td>\n",
       "      <td>...</td>\n",
       "      <td>2163.043478</td>\n",
       "      <td>2163.043478</td>\n",
       "      <td>http://www.properati.com.ar/18zeg_venta_depart...</td>\n",
       "      <td>apartment</td>\n",
       "      <td>1.0</td>\n",
       "      <td>Capital Federal</td>\n",
       "      <td>46.0</td>\n",
       "      <td>NaN</td>\n",
       "      <td>46.0</td>\n",
       "      <td>Departamento de 1 ambiente en Venta en Abasto</td>\n",
       "    </tr>\n",
       "    <tr>\n",
       "      <th>33039</th>\n",
       "      <td>Argentina</td>\n",
       "      <td>2017-06-08</td>\n",
       "      <td>USD</td>\n",
       "      <td>OPORTUNIDAD PARA APROVECHAR POR SU CALIDAD Y E...</td>\n",
       "      <td>NaN</td>\n",
       "      <td>NaN</td>\n",
       "      <td>NaN</td>\n",
       "      <td>NaN</td>\n",
       "      <td>4a2fe5ca2ab1988fd6736b181934756ace939b91</td>\n",
       "      <td>https://thumbs4.properati.com/3/i_FVUFbSLmND1o...</td>\n",
       "      <td>...</td>\n",
       "      <td>2716.666667</td>\n",
       "      <td>2716.666667</td>\n",
       "      <td>http://www.properati.com.ar/18zfk_venta_depart...</td>\n",
       "      <td>apartment</td>\n",
       "      <td>3.0</td>\n",
       "      <td>Capital Federal</td>\n",
       "      <td>60.0</td>\n",
       "      <td>NaN</td>\n",
       "      <td>60.0</td>\n",
       "      <td>gallo 500 / Excelente 3 Ambientes Reciclado Ba...</td>\n",
       "    </tr>\n",
       "    <tr>\n",
       "      <th>33040</th>\n",
       "      <td>Argentina</td>\n",
       "      <td>2017-06-08</td>\n",
       "      <td>USD</td>\n",
       "      <td>OPORTUNIDAD PARA APROVECHAR POR SU CALIDAD Y E...</td>\n",
       "      <td>NaN</td>\n",
       "      <td>NaN</td>\n",
       "      <td>NaN</td>\n",
       "      <td>NaN</td>\n",
       "      <td>21d40feb82ae08f326947446d512eb93dd92cb68</td>\n",
       "      <td>https://thumbs4.properati.com/4/OVMueu2qfWvWps...</td>\n",
       "      <td>...</td>\n",
       "      <td>2716.666667</td>\n",
       "      <td>2716.666667</td>\n",
       "      <td>http://www.properati.com.ar/18zfm_venta_depart...</td>\n",
       "      <td>apartment</td>\n",
       "      <td>3.0</td>\n",
       "      <td>Capital Federal</td>\n",
       "      <td>60.0</td>\n",
       "      <td>NaN</td>\n",
       "      <td>60.0</td>\n",
       "      <td>gallo 500 Excelente 3 Ambientes Reciclado Baño...</td>\n",
       "    </tr>\n",
       "    <tr>\n",
       "      <th>33820</th>\n",
       "      <td>Argentina</td>\n",
       "      <td>2017-06-13</td>\n",
       "      <td>USD</td>\n",
       "      <td>OPORTUNIDAD PARA APROVECHAR POR SU CALIDAD Y E...</td>\n",
       "      <td>NaN</td>\n",
       "      <td>NaN</td>\n",
       "      <td>NaN</td>\n",
       "      <td>NaN</td>\n",
       "      <td>c5255882af32dc7b0b99afd1804ceae7ab954052</td>\n",
       "      <td>https://thumbs4.properati.com/8/cafnmEv-nnFhT0...</td>\n",
       "      <td>...</td>\n",
       "      <td>2716.666667</td>\n",
       "      <td>2716.666667</td>\n",
       "      <td>http://www.properati.com.ar/1961r_venta_depart...</td>\n",
       "      <td>apartment</td>\n",
       "      <td>3.0</td>\n",
       "      <td>Capital Federal</td>\n",
       "      <td>60.0</td>\n",
       "      <td>NaN</td>\n",
       "      <td>60.0</td>\n",
       "      <td>gallo 500 / Excelente 3 Ambientes Reciclado Ba...</td>\n",
       "    </tr>\n",
       "    <tr>\n",
       "      <th>33923</th>\n",
       "      <td>Argentina</td>\n",
       "      <td>2017-06-14</td>\n",
       "      <td>USD</td>\n",
       "      <td>Excelente local a Estrenar entre Almagro y Vil...</td>\n",
       "      <td>4500.0</td>\n",
       "      <td>NaN</td>\n",
       "      <td>NaN</td>\n",
       "      <td>NaN</td>\n",
       "      <td>1be773e3396f43cc6c878b8742f6b448133e7a10</td>\n",
       "      <td>https://thumbs4.properati.com/3/hYv2XaHazPzl_I...</td>\n",
       "      <td>...</td>\n",
       "      <td>2840.909091</td>\n",
       "      <td>2840.909091</td>\n",
       "      <td>http://www.properati.com.ar/196ib_venta_local_...</td>\n",
       "      <td>store</td>\n",
       "      <td>1.0</td>\n",
       "      <td>Capital Federal</td>\n",
       "      <td>44.0</td>\n",
       "      <td>NaN</td>\n",
       "      <td>44.0</td>\n",
       "      <td>Local en Alquiler Abasto</td>\n",
       "    </tr>\n",
       "  </tbody>\n",
       "</table>\n",
       "<p>5 rows × 29 columns</p>\n",
       "</div>"
      ],
      "text/plain": [
       "      country_name  created_on currency  \\\n",
       "33024    Argentina  2017-06-08      USD   \n",
       "33039    Argentina  2017-06-08      USD   \n",
       "33040    Argentina  2017-06-08      USD   \n",
       "33820    Argentina  2017-06-13      USD   \n",
       "33923    Argentina  2017-06-14      USD   \n",
       "\n",
       "                                             description  expenses  extra  \\\n",
       "33024  AMPLIO MONOAMBIENTE DIVISIBLE DE 46M2 - COCINA...       NaN    NaN   \n",
       "33039  OPORTUNIDAD PARA APROVECHAR POR SU CALIDAD Y E...       NaN    NaN   \n",
       "33040  OPORTUNIDAD PARA APROVECHAR POR SU CALIDAD Y E...       NaN    NaN   \n",
       "33820  OPORTUNIDAD PARA APROVECHAR POR SU CALIDAD Y E...       NaN    NaN   \n",
       "33923  Excelente local a Estrenar entre Almagro y Vil...    4500.0    NaN   \n",
       "\n",
       "       floor  geonames_id                                        id  \\\n",
       "33024    NaN          NaN  e719722661730432e94f000ea452758bec621a4c   \n",
       "33039    NaN          NaN  4a2fe5ca2ab1988fd6736b181934756ace939b91   \n",
       "33040    NaN          NaN  21d40feb82ae08f326947446d512eb93dd92cb68   \n",
       "33820    NaN          NaN  c5255882af32dc7b0b99afd1804ceae7ab954052   \n",
       "33923    NaN          NaN  1be773e3396f43cc6c878b8742f6b448133e7a10   \n",
       "\n",
       "                                         image_thumbnail  \\\n",
       "33024  https://thumbs4.properati.com/4/T5ttreG1sX5fVm...   \n",
       "33039  https://thumbs4.properati.com/3/i_FVUFbSLmND1o...   \n",
       "33040  https://thumbs4.properati.com/4/OVMueu2qfWvWps...   \n",
       "33820  https://thumbs4.properati.com/8/cafnmEv-nnFhT0...   \n",
       "33923  https://thumbs4.properati.com/3/hYv2XaHazPzl_I...   \n",
       "\n",
       "                             ...                          price_per_m2  \\\n",
       "33024                        ...                           2163.043478   \n",
       "33039                        ...                           2716.666667   \n",
       "33040                        ...                           2716.666667   \n",
       "33820                        ...                           2716.666667   \n",
       "33923                        ...                           2840.909091   \n",
       "\n",
       "      price_usd_per_m2                                      properati_url  \\\n",
       "33024      2163.043478  http://www.properati.com.ar/18zeg_venta_depart...   \n",
       "33039      2716.666667  http://www.properati.com.ar/18zfk_venta_depart...   \n",
       "33040      2716.666667  http://www.properati.com.ar/18zfm_venta_depart...   \n",
       "33820      2716.666667  http://www.properati.com.ar/1961r_venta_depart...   \n",
       "33923      2840.909091  http://www.properati.com.ar/196ib_venta_local_...   \n",
       "\n",
       "      property_type rooms       state_name  surface_covered_in_m2  \\\n",
       "33024     apartment   1.0  Capital Federal                   46.0   \n",
       "33039     apartment   3.0  Capital Federal                   60.0   \n",
       "33040     apartment   3.0  Capital Federal                   60.0   \n",
       "33820     apartment   3.0  Capital Federal                   60.0   \n",
       "33923         store   1.0  Capital Federal                   44.0   \n",
       "\n",
       "       surface_in_m2  surface_total_in_m2  \\\n",
       "33024            NaN                 46.0   \n",
       "33039            NaN                 60.0   \n",
       "33040            NaN                 60.0   \n",
       "33820            NaN                 60.0   \n",
       "33923            NaN                 44.0   \n",
       "\n",
       "                                                   title  \n",
       "33024      Departamento de 1 ambiente en Venta en Abasto  \n",
       "33039  gallo 500 / Excelente 3 Ambientes Reciclado Ba...  \n",
       "33040  gallo 500 Excelente 3 Ambientes Reciclado Baño...  \n",
       "33820  gallo 500 / Excelente 3 Ambientes Reciclado Ba...  \n",
       "33923                           Local en Alquiler Abasto  \n",
       "\n",
       "[5 rows x 29 columns]"
      ]
     },
     "execution_count": 13,
     "metadata": {},
     "output_type": "execute_result"
    }
   ],
   "source": [
    "properati_filtered= pd.read_csv('../tp1/properati_filtered1.csv',encoding='UTF-8')\n",
    "capitalFederal = properati_filtered.loc[properati_filtered.state_name.str.contains(\"Capital Federal\", na=False),:]\n",
    "Abasto =  capitalFederal.loc[capitalFederal.place_name.str.contains(\"Abasto\", na=False),:]\n",
    "Abasto.tail()"
   ]
  },
  {
   "cell_type": "code",
   "execution_count": 14,
   "metadata": {},
   "outputs": [
    {
     "data": {
      "text/plain": [
       "array([u'country_name', u'created_on', u'currency', u'description',\n",
       "       u'expenses', u'extra', u'floor', u'geonames_id', u'id',\n",
       "       u'image_thumbnail', u'lat', u'lat-lon', u'lon', u'operation',\n",
       "       u'place_name', u'place_with_parent_names', u'price',\n",
       "       u'price_aprox_local_currency', u'price_aprox_usd', u'price_per_m2',\n",
       "       u'price_usd_per_m2', u'properati_url', u'property_type', u'rooms',\n",
       "       u'state_name', u'surface_covered_in_m2', u'surface_in_m2',\n",
       "       u'surface_total_in_m2', u'title'], dtype=object)"
      ]
     },
     "execution_count": 14,
     "metadata": {},
     "output_type": "execute_result"
    }
   ],
   "source": [
    "Abasto.columns.values"
   ]
  },
  {
   "cell_type": "code",
   "execution_count": 35,
   "metadata": {
    "collapsed": true
   },
   "outputs": [],
   "source": [
    "#quito las filas con valor Nan \n",
    "Abasto = Abasto[np.isfinite(Abasto['price_usd_per_m2'])]\n",
    "Abasto = Abasto[np.isfinite(Abasto['surface_covered_in_m2'])]"
   ]
  },
  {
   "cell_type": "code",
   "execution_count": 36,
   "metadata": {
    "collapsed": true
   },
   "outputs": [],
   "source": [
    "#el valor que se quiere predecir es el precio por metro cuadrado \n",
    "Abasto_target = Abasto['price_usd_per_m2']"
   ]
  },
  {
   "cell_type": "code",
   "execution_count": 37,
   "metadata": {
    "collapsed": true
   },
   "outputs": [],
   "source": [
    "#el valor a partir del cual se lo predice son los metros cuadrados\n",
    "Abasto_X = Abasto['surface_covered_in_m2'].values[:, np.newaxis]"
   ]
  },
  {
   "cell_type": "code",
   "execution_count": 38,
   "metadata": {
    "collapsed": true
   },
   "outputs": [],
   "source": [
    "# divido en training/testing sets\n",
    "Abasto_X_train = Abasto_X[:-20] #desde el principio hasta 20 antes de que termine\n",
    "Abasto_X_test = Abasto_X[-20:] #20 antes de que termine hasta el final"
   ]
  },
  {
   "cell_type": "code",
   "execution_count": 39,
   "metadata": {
    "collapsed": true
   },
   "outputs": [],
   "source": [
    "# Hago lo mismo con los valores que quiero predecir\n",
    "Abasto_y_train = Abasto_target[:-20]\n",
    "Abasto_y_test = Abasto_target[-20:]"
   ]
  },
  {
   "cell_type": "code",
   "execution_count": 40,
   "metadata": {
    "collapsed": true
   },
   "outputs": [],
   "source": [
    "#Creo una linear regression\n",
    "regr = LinearRegression()"
   ]
  },
  {
   "cell_type": "code",
   "execution_count": 41,
   "metadata": {},
   "outputs": [
    {
     "data": {
      "text/plain": [
       "LinearRegression(copy_X=True, fit_intercept=True, n_jobs=1, normalize=False)"
      ]
     },
     "execution_count": 41,
     "metadata": {},
     "output_type": "execute_result"
    }
   ],
   "source": [
    "# entrenamiento\n",
    "regr.fit(Abasto_X_train, Abasto_y_train)"
   ]
  },
  {
   "cell_type": "code",
   "execution_count": 43,
   "metadata": {},
   "outputs": [
    {
     "data": {
      "text/plain": [
       "array([ 1995.32227757,  1922.03738178,  1969.53685127,  1991.25089447,\n",
       "        1998.03653297,  2002.10791607,  1954.60844658,  1954.60844658,\n",
       "        1991.25089447,  1985.82238367,  2008.89355457,  2008.89355457,\n",
       "        2017.03632077,  1968.17972357,  1968.17972357,  1987.17951137,\n",
       "        1968.17972357,  1968.17972357,  1968.17972357,  1989.89376677])"
      ]
     },
     "execution_count": 43,
     "metadata": {},
     "output_type": "execute_result"
    }
   ],
   "source": [
    "# Hago las predicciones\n",
    "Abasto_y_pred = regr.predict(Abasto_X_test)\n",
    "Abasto_y_pred #deberian parecerse a Abasto_y_test"
   ]
  },
  {
   "cell_type": "code",
   "execution_count": 45,
   "metadata": {},
   "outputs": [
    {
     "data": {
      "text/plain": [
       "29316   -129.677722\n",
       "29355    213.704048\n",
       "29427   -230.463149\n",
       "29625     13.978167\n",
       "30052     37.510217\n",
       "30114   -540.749227\n",
       "30579   -445.391553\n",
       "30582   -431.105839\n",
       "31666   -334.330501\n",
       "31731    293.514691\n",
       "31995   -124.439779\n",
       "32115    742.226888\n",
       "32601     17.036321\n",
       "32663   -748.486943\n",
       "32904   -748.486943\n",
       "33024   -175.863967\n",
       "33039   -748.486943\n",
       "33040   -748.486943\n",
       "33820   -748.486943\n",
       "33923   -851.015324\n",
       "Name: price_usd_per_m2, dtype: float64"
      ]
     },
     "execution_count": 45,
     "metadata": {},
     "output_type": "execute_result"
    }
   ],
   "source": [
    "Abasto_y_pred-Abasto_y_test #el error de cada uno"
   ]
  },
  {
   "cell_type": "code",
   "execution_count": 47,
   "metadata": {},
   "outputs": [
    {
     "name": "stdout",
     "output_type": "stream",
     "text": [
      "Coefficients: \n",
      "[-1.3571277]\n"
     ]
    }
   ],
   "source": [
    "# The coefficients\n",
    "print 'Coefficients: \\n', regr.coef_"
   ]
  },
  {
   "cell_type": "code",
   "execution_count": 49,
   "metadata": {},
   "outputs": [
    {
     "name": "stdout",
     "output_type": "stream",
     "text": [
      "Mean squared error: 255737.99\n"
     ]
    }
   ],
   "source": [
    "# el error cuadratico medio\n",
    "print(\"Mean squared error: %.2f\"\n",
    "      % mean_squared_error(Abasto_y_test, Abasto_y_pred))"
   ]
  },
  {
   "cell_type": "code",
   "execution_count": 50,
   "metadata": {},
   "outputs": [
    {
     "name": "stdout",
     "output_type": "stream",
     "text": [
      "Variance score: -0.51\n"
     ]
    }
   ],
   "source": [
    "# Explained variance score: 1 is perfect prediction\n",
    "print('Variance score: %.2f' % r2_score(Abasto_y_test, Abasto_y_pred))"
   ]
  },
  {
   "cell_type": "code",
   "execution_count": 51,
   "metadata": {},
   "outputs": [
    {
     "data": {
      "image/png": "[encoded data removed]",
      "text/plain": [
       "<matplotlib.figure.Figure at 0x7f2821452fd0>"
      ]
     },
     "metadata": {},
     "output_type": "display_data"
    }
   ],
   "source": [
    "# Plot outputs\n",
    "plt.scatter(Abasto_X_test, Abasto_y_test,  color='black')\n",
    "plt.plot(Abasto_X_test, Abasto_y_pred, color='blue', linewidth=3)\n",
    "\n",
    "plt.xticks(())\n",
    "plt.yticks(())\n",
    "\n",
    "plt.show()"
   ]
  },
  {
   "cell_type": "code",
   "execution_count": null,
   "metadata": {
    "collapsed": true
   },
   "outputs": [],
   "source": []
  },
  {
   "cell_type": "markdown",
   "metadata": {
    "collapsed": true
   },
   "source": [
    "http://bigdata-madesimple.com/how-to-run-linear-regression-in-python-scikit-learn/\n",
    "\n",
    "http://scikit-learn.org/stable/auto_examples/linear_model/plot_ols.html#sphx-glr-auto-examples-linear-model-plot-ols-py"
   ]
  },
  {
   "cell_type": "code",
   "execution_count": null,
   "metadata": {
    "collapsed": true
   },
   "outputs": [],
   "source": []
  },
  {
   "cell_type": "code",
   "execution_count": null,
   "metadata": {
    "collapsed": true
   },
   "outputs": [],
   "source": []
  }
 ],
 "metadata": {
  "kernelspec": {
   "display_name": "Python 2",
   "language": "python",
   "name": "python2"
  },
  "language_info": {
   "codemirror_mode": {
    "name": "ipython",
    "version": 2
   },
   "file_extension": ".py",
   "mimetype": "text/x-python",
   "name": "python",
   "nbconvert_exporter": "python",
   "pygments_lexer": "ipython2",
   "version": "2.7.13"
  }
 },
 "nbformat": 4,
 "nbformat_minor": 2
}
