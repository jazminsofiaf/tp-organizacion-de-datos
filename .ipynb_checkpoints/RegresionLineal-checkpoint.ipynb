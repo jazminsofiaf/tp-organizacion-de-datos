{
 "cells": [
  {
   "cell_type": "code",
   "execution_count": 327,
   "metadata": {
    "collapsed": true
   },
   "outputs": [],
   "source": [
    "import pandas as pd\n",
    "import numpy as np\n",
    "import seaborn as sns\n",
    "import matplotlib.pyplot as plt\n",
    "from mpl_toolkits.basemap import Basemap\n",
    "from pandas import Series\n",
    "%matplotlib inline"
   ]
  },
  {
   "cell_type": "code",
   "execution_count": 328,
   "metadata": {
    "collapsed": true
   },
   "outputs": [],
   "source": [
    "from sklearn import datasets\n",
    "from sklearn.linear_model import LinearRegression\n",
    "from sklearn.metrics import mean_squared_error, r2_score\n",
    "from sklearn.model_selection import train_test_split"
   ]
  },
  {
   "cell_type": "code",
   "execution_count": 329,
   "metadata": {
    "collapsed": true
   },
   "outputs": [],
   "source": [
    "properati_no_price= pd.read_csv('../tp1/properati_dataset_testing_noprice_barrios_adivinados.csv',encoding='UTF-8')"
   ]
  },
  {
   "cell_type": "code",
   "execution_count": null,
   "metadata": {
    "collapsed": true
   },
   "outputs": [],
   "source": []
  },
  {
   "cell_type": "code",
   "execution_count": 398,
   "metadata": {},
   "outputs": [],
   "source": [
    "def select_columns_and_fill_nan(datos_barrio):\n",
    "    X_columns = ['created_on','property_type','lat','lon', \n",
    "                 'surface_total_in_m2','surface_covered_in_m2',\n",
    "                 'floor','rooms','expenses']\n",
    "    datos_barrio = datos_barrio.loc[:,X_columns]\n",
    "    #relleno los valores de nan con cero\n",
    "    datos_barrio = datos_barrio.fillna(0)\n",
    "    return  datos_barrio\n",
    "\n",
    "\n",
    "propertytype = {}\n",
    "propertytype[0] = 0\n",
    "propertytype[\"appartment\"] = 1\n",
    "propertytype[\"apartment\"] = 1\n",
    "propertytype[\"departamento\"] = 1\n",
    "propertytype[\"house\"] = 2\n",
    "propertytype[\"casa\"] = 2\n",
    "propertytype[\"PH\"] = 3\n",
    "propertytype[\"ph\"] = 3\n",
    "propertytype[\"store\"] = 4\n",
    "propertytype[\"local\"] = 4\n",
    "\n",
    "def date_to_float(dt64):\n",
    "    return (dt64 - np.datetime64('2013-01-01T00:00:00Z')) / np.timedelta64(1, 's')\n",
    "\n",
    "import re\n",
    "\n",
    "def convertir_a_float(datos_barrio):\n",
    "    datos_barrio[\"expenses\"] = datos_barrio[\"expenses\"].map(lambda exp: re.sub(\"[^0-9]\", \"\",str(exp) ))\n",
    "    datos_barrio[\"expenses\"] = datos_barrio[\"expenses\"].map(lambda exp: -1 if(str(exp)== \"\") else exp)\n",
    "    datos_barrio[\"property_type\"] = datos_barrio.property_type.map(lambda t: propertytype.get(t))\n",
    "    datos_barrio[\"created_on\"] =  pd.to_datetime(datos_barrio['created_on'])\n",
    "    datos_barrio['created_on'] = datos_barrio['created_on'].map(lambda dt64 :date_to_float(dt64))\n",
    "    return datos_barrio\n"
   ]
  },
  {
   "cell_type": "code",
   "execution_count": 384,
   "metadata": {
    "collapsed": true
   },
   "outputs": [],
   "source": [
    "properati_filtered= pd.read_csv('../tp1/properati_filtered1.csv',encoding='UTF-8')\n",
    "\n",
    "\n",
    "def get_training_set(place):\n",
    "    properati_filtered_place = properati_filtered.loc[properati_filtered.place_name.str.contains(place, na=False),:]\n",
    "    \n",
    "    #si no existe ese barrio uso todo el dataset de prueba\n",
    "    if(properati_filtered_place.shape[0] == 0):\n",
    "        properati_filtered_place = properati_filtered\n",
    "    \n",
    "    y = properati_filtered_place.price_aprox_usd\n",
    "    \n",
    "    properati_filtered_place = select_columns_and_fill_nan(properati_filtered_place)\n",
    "    properati_filtered_place = convertir_a_float(properati_filtered_place)\n",
    "    X = properati_filtered_place.loc[:,['created_on','property_type','lat','lon', 'surface_total_in_m2','surface_covered_in_m2','floor','rooms','expenses']]\n",
    "    \n",
    "    return (X,y)\n",
    "    \n",
    "    "
   ]
  },
  {
   "cell_type": "code",
   "execution_count": null,
   "metadata": {
    "collapsed": true
   },
   "outputs": [],
   "source": []
  },
  {
   "cell_type": "code",
   "execution_count": 334,
   "metadata": {
    "collapsed": true
   },
   "outputs": [],
   "source": [
    "properati_filtered= pd.read_csv('../tp1/properati_filtered_barrios_adivinados.csv',encoding='UTF-8')\n",
    "def predecir(df_to_predict, X_train, y_train):\n",
    "    regr = LinearRegression()\n",
    "    regr.fit(X_train, y_train)\n",
    "    y_price_usd_predicted = regr.predict(df_to_predict)\n",
    "    return y_price_usd_predicted\n",
    "    "
   ]
  },
  {
   "cell_type": "code",
   "execution_count": 400,
   "metadata": {},
   "outputs": [],
   "source": [
    "def predict_for_place(place):\n",
    "    df_place_to_predict = properati_no_price.loc[properati_no_price.place_name ==place,:]\n",
    "    X_to_predict = select_columns_and_fill_nan(df_place_to_predict)\n",
    "    X_to_predict = convertir_a_float(X_to_predict)\n",
    "    X_train, y_train = get_training_set(place)\n",
    "    predictions = predecir(X_to_predict, X_train, y_train)\n",
    "    df_place_to_predict['price_usd'] = predictions\n",
    "    df_predicted = df_place_to_predict.loc[:,['id','price_usd']]\n",
    "    return df_predicted"
   ]
  },
  {
   "cell_type": "code",
   "execution_count": 402,
   "metadata": {},
   "outputs": [
    {
     "name": "stdout",
     "output_type": "stream",
     "text": [
      "Puerto Madero\n"
     ]
    },
    {
     "name": "stderr",
     "output_type": "stream",
     "text": [
      "/home/jaz/fiuba/orga-de-datos-7506/lib/python2.7/site-packages/ipykernel_launcher.py:22: DeprecationWarning: parsing timezone aware datetimes is deprecated; this will raise an error in the future\n",
      "/home/jaz/fiuba/orga-de-datos-7506/lib/python2.7/site-packages/ipykernel_launcher.py:7: SettingWithCopyWarning: \n",
      "A value is trying to be set on a copy of a slice from a DataFrame.\n",
      "Try using .loc[row_indexer,col_indexer] = value instead\n",
      "\n",
      "See the caveats in the documentation: http://pandas.pydata.org/pandas-docs/stable/indexing.html#indexing-view-versus-copy\n",
      "  import sys\n"
     ]
    },
    {
     "name": "stdout",
     "output_type": "stream",
     "text": [
      "Buenos Aires Interior\n",
      "Palermo Soho\n",
      "Chacarita\n",
      "Colegiales\n",
      "Almagro\n",
      "Belgrano\n",
      "Villa Crespo\n",
      "Caballito\n",
      "Boedo\n",
      "Parque Patricios\n",
      "Palermo Chico\n",
      "Palermo\n",
      "Recoleta\n",
      "Lomas De Zamora\n",
      "Flores\n",
      "La Plata\n",
      "Temperley\n",
      "Nuñez\n",
      "Mataderos\n",
      "Morón\n",
      "Capital Federal\n",
      "Monserrat\n",
      "Caseros\n",
      "Boca\n",
      "Parque Avellaneda\n",
      "Banfield\n",
      "Palermo Hollywood\n",
      "Altos De Hudson I\n",
      "Villa Urquiza\n",
      "Barrio Norte\n",
      "Monte Grande\n",
      "Villa Luro\n",
      "Coghlan\n",
      "El Palomar\n",
      "Villa Devoto\n",
      "Barracas\n",
      "Las Cañitas\n",
      "Paternal\n",
      "Wilde\n",
      "Isidro Casanova\n",
      "Monte Castro\n",
      "Berazategui\n",
      "Ramos Mejía\n",
      "Retiro\n",
      "Villa Pueyrredón\n",
      "Parque Chacabuco\n",
      "Lanús Este\n",
      "Moreno\n",
      "Liniers\n",
      "Congreso\n",
      "Centro / Microcentro\n",
      "Villa Lugano\n",
      "San Justo\n",
      "San Cristobal\n",
      "Pompeya\n",
      "Adrogué\n",
      "Avellaneda\n",
      "Saavedra\n",
      "Parque Leloir\n",
      "Villa Luzuriaga\n",
      "La Tablada\n",
      "Sáenz Peña\n",
      "Tribunales\n",
      "Villa Ortuzar\n",
      "Balvanera\n",
      "Once\n",
      "Valentín Alsina\n",
      "Crucecita\n",
      "Turdera\n",
      "Ciudad Jardín Lomas Del Palomar\n",
      "Sourigues\n",
      "Ranelagh\n",
      "Quilmes\n",
      "Haedo\n",
      "Tapiales\n",
      "Virrey Del Pino\n",
      "Ituzaingó\n",
      "San Nicolás\n",
      "Lomas Del Mirador\n",
      "San Isidro\n",
      "Rincon\n",
      "Tolosa\n",
      "City Bell\n",
      "Llavallol\n",
      "Pilar\n",
      "La Madrugada\n",
      "Olivos\n",
      "Barrio Cerrado\n",
      "Almirante Brown\n",
      "Nordelta\n",
      "Constitución\n",
      "Gerli\n",
      "Floresta\n",
      "Castelar\n",
      "Villa Sarmiento\n",
      "Don Bosco\n",
      "Canning\n",
      "Jose Marmol\n",
      "Villa Del Parque\n",
      "Villa Santa Rita\n",
      "San Telmo\n",
      "Burzaco\n",
      "Bs.As. G.B.A. Zona Oeste\n",
      "Uribelarrea\n",
      "Los Hornos\n",
      "Ciudadela\n",
      "Villa Tesei\n",
      "Sarandi\n",
      "Villa Brown\n",
      "Merlo\n",
      "La Matanza\n",
      "Esteban Echeverría\n",
      "San Martin\n",
      "Villa Dominico\n",
      "Remedios De Escalada\n",
      "Velez Sarsfield\n",
      "Guillermo Hudson\n",
      "Francisco Alvarez\n",
      "Santos Lugares\n",
      "Tres De Febrero\n",
      "Glew\n",
      "Malvinas Argentinas\n",
      "Lanús\n",
      "Parque Centenario\n",
      "Don Orione\n",
      "Las Golondrinas\n",
      "Agronomía\n",
      "Ezpeleta\n",
      "General Rodríguez\n",
      "San Antonio De Padua\n",
      "Hurlingham\n",
      "Villa Bosch\n",
      "Haras María Victoria\n",
      "Country Saint Thomas\n",
      "Santa Juana\n",
      "Villa Raffo\n",
      "Palermo Viejo\n",
      "Fincas De Iraola Ii\n",
      "Bernal\n",
      "Monte Chingolo\n",
      "San Vicente\n",
      "Fincas De Hudson\n",
      "Villa Real\n",
      "Martín Coronado\n",
      "Versalles\n",
      "Luis Guillón\n",
      "Ezeiza\n",
      "Longchamps\n",
      "Lanús Oeste\n",
      "Villa Udaondo\n",
      "Campos De Álvarez\n",
      "Ciudad Evita\n",
      "Abasto\n",
      "Villa General Mitre\n",
      "Piñeiro\n",
      "Florencio Varela\n",
      "El Nacional Club De Campo\n",
      "Cuartel V\n",
      "Paso Del Rey\n",
      "Villa Elisa\n",
      "Loma Hermosa\n",
      "San Diego Country Club\n",
      "Gutierrez\n",
      "La Reja\n",
      "Cañuelas\n",
      "Villa España\n",
      "Barrio El Moro\n",
      "Vicente Casares\n",
      "Libertad\n",
      "Pereyra\n",
      "Villa Ariza\n",
      "El Pato\n",
      "Ingeniero Juan Allan\n",
      "Berazategui Oeste\n",
      "Alejandro Korn\n",
      "Barrio Privado El Resuello\n",
      "La Cesarina\n",
      "Pablo Podestá\n",
      "Presidente Perón\n",
      "Haras San Pablo\n",
      "Villa Numancia\n",
      "Guernica\n",
      "Domselaar\n",
      "San Francisco Solano\n",
      "William Morris\n",
      "Los Pingüinos Country Club\n",
      "Manuel B Gonnet\n",
      "Trujui\n",
      "Barrio Parque San Martin\n",
      "El Casco De Leloir\n",
      "Pontevedra\n",
      "Prados Del Oeste\n",
      "Haras María Elena\n",
      "Santos Tesei\n",
      "Rafael Castillo\n",
      "Marcos Paz\n",
      "Parque Chas\n",
      "Fincas De Iraola\n",
      "Villa Madero\n",
      "Villa Soldati\n",
      "Echeverría Del Lago\n",
      "Villa Elvira\n",
      "Arturo Seguí\n",
      "Villa Celina\n",
      "La Horqueta De Echeverría\n",
      "Terralagos\n",
      "Saenz Pena\n",
      "El Pilar\n",
      "Florida\n",
      "El Rocío\n",
      "Solar Del Bosque\n",
      "Country Nuevo Quilmes\n",
      "Villa Riachuelo\n",
      "Tristán Suárez\n",
      "Bs.As. G.B.A. Zona Sur\n",
      "Country Banco Provincia\n",
      "Vicente López\n",
      "General San Martín\n",
      "Carlos Spegazzini\n",
      "Claypole\n",
      "Gregorio De Laferrere\n",
      "González Catán\n",
      "Bosques\n",
      "San Nicolas\n",
      "La Unión\n",
      "Mariano Acosta\n",
      "Country El Venado\n",
      "Melchor Romero\n",
      "Victoria\n",
      "Barrio Cerrado Malibú\n",
      "9 De Abril\n",
      "San Carlos\n",
      "Don Torcuato\n",
      "Aldo Bonzi\n",
      "Abril Club De Campo\n"
     ]
    }
   ],
   "source": [
    "places_to_predict = properati_no_price.place_name.drop_duplicates(keep='first')\n",
    "df_predictions_list= []\n",
    "for place in places_to_predict:\n",
    "    print place\n",
    "    df_predictions_list.append(predict_for_place(place))"
   ]
  },
  {
   "cell_type": "code",
   "execution_count": 404,
   "metadata": {},
   "outputs": [],
   "source": [
    "\n",
    "predictions_total = pd.concat(df_predictions_list)"
   ]
  },
  {
   "cell_type": "code",
   "execution_count": 405,
   "metadata": {
    "collapsed": true
   },
   "outputs": [],
   "source": [
    "predictions_total.to_csv(\"prediccion1.csv\",encoding='utf-8',index=False)"
   ]
  },
  {
   "cell_type": "code",
   "execution_count": 408,
   "metadata": {},
   "outputs": [
    {
     "data": {
      "text/plain": [
       "(14648, 2)"
      ]
     },
     "execution_count": 408,
     "metadata": {},
     "output_type": "execute_result"
    }
   ],
   "source": [
    "predictions_total.shape"
   ]
  },
  {
   "cell_type": "code",
   "execution_count": 411,
   "metadata": {},
   "outputs": [
    {
     "data": {
      "text/plain": [
       "(14166,)"
      ]
     },
     "execution_count": 411,
     "metadata": {},
     "output_type": "execute_result"
    }
   ],
   "source": [
    "predictions_total.id.drop_duplicates(keep='first').shape"
   ]
  },
  {
   "cell_type": "code",
   "execution_count": 412,
   "metadata": {},
   "outputs": [
    {
     "data": {
      "text/plain": [
       "(14166, 17)"
      ]
     },
     "execution_count": 412,
     "metadata": {},
     "output_type": "execute_result"
    }
   ],
   "source": [
    "properati_no_price.shape"
   ]
  },
  {
   "cell_type": "code",
   "execution_count": null,
   "metadata": {
    "collapsed": true
   },
   "outputs": [],
   "source": []
  }
 ],
 "metadata": {
  "kernelspec": {
   "display_name": "Python 2",
   "language": "python",
   "name": "python2"
  },
  "language_info": {
   "codemirror_mode": {
    "name": "ipython",
    "version": 2
   },
   "file_extension": ".py",
   "mimetype": "text/x-python",
   "name": "python",
   "nbconvert_exporter": "python",
   "pygments_lexer": "ipython2",
   "version": "2.7.13"
  }
 },
 "nbformat": 4,
 "nbformat_minor": 2
}
