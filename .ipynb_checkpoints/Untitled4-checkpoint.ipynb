{
 "cells": [
  {
   "cell_type": "code",
   "execution_count": 24,
   "metadata": {
    "collapsed": true
   },
   "outputs": [],
   "source": [
    "import pandas as pd\n",
    "\n",
    "import numpy as np\n",
    "import unicodedata\n",
    "import re\n"
   ]
  },
  {
   "cell_type": "code",
   "execution_count": 25,
   "metadata": {
    "collapsed": true
   },
   "outputs": [],
   "source": [
    "\n",
    "def date_to_float(dt64):\n",
    "    return (dt64 - np.datetime64('2013-01-01T00:00:00Z')) / np.timedelta64(1, 's')\n",
    "\n",
    "\n",
    "def define_category(d):\n",
    "    if(\"picina\" in d or \"garage\" in d):\n",
    "        return 0.75\n",
    "\n",
    "    if(\"pileta\" in d or \"cochera\" in d):\n",
    "        return 0.70\n",
    "\n",
    "    if(\"gimnasio\" in d):\n",
    "        return 0.50\n",
    "    \n",
    "    if(\"sum\" in d):\n",
    "        return 0.30\n",
    "    \n",
    "    if(\"reciclar\" in d or \"refaccionar\" in d ):\n",
    "        return -0.7\n",
    "    return 0\n",
    "   \n",
    "\n",
    "def fill_nan_and_convert_to_float(datos):\n",
    "    columns = ['id','created_on','property_type','lat','lon', 'place_name','state_name',\n",
    "                 'surface_total_in_m2','surface_covered_in_m2','description',\n",
    "                 'floor','rooms','expenses', 'price_aprox_usd','price_usd_per_m2']\n",
    "    datos = datos.loc[:,columns]\n",
    "    \n",
    "   \n",
    "    #tipo de propiedad\n",
    "    datos[\"property_type\"] = pd.Categorical(datos.property_type)\n",
    "    datos[\"property_type\"] = datos.property_type.cat.codes\n",
    "    \n",
    "    \n",
    "    #descripcion\n",
    "    datos[\"description\"] = datos.description.map(lambda d: define_category(d))\n",
    "    \n",
    "    #fecha\n",
    "    datos[\"created_on\"] =  pd.to_datetime(datos['created_on'])\n",
    "    datos['created_on'] = datos['created_on'].map(lambda dt64 :date_to_float(dt64))\n",
    "    \n",
    "    #barrios a numeros\n",
    "    datos[\"place_name\"] = pd.Categorical(datos.place_name)\n",
    "    datos[\"place_name\"] = datos.place_name.cat.codes\n",
    "    \n",
    "    #zonas a numeros\n",
    "    datos[\"state_name\"] = pd.Categorical(datos.state_name)\n",
    "    datos[\"state_name\"] = datos.state_name.cat.codes\n",
    "    \n",
    "    #latitud y longitud la relleno con el promedio del barrio\n",
    "    datos['lat'] = datos.groupby('place_name')['lat'].apply(lambda x: x.fillna(x.mean()))\n",
    "    datos['lon'] = datos.groupby('place_name')['lon'].apply(lambda x: x.fillna(x.mean()))\n",
    "    \n",
    "     #para el tamaño total de la propiedad uso el promedio del barrio\n",
    "    datos[\"surface_total_in_m2\"] = datos[\"surface_total_in_m2\"].map(lambda t: np.NaN if(t== 0 ) else t)\n",
    "    datos[\"surface_total_in_m2\"] = datos.groupby('place_name')['surface_total_in_m2'].apply(lambda x: x.fillna(x.mean()))\n",
    "    \n",
    "    #tamaño cubierto, tomo el total de la fila\n",
    "    datos[\"surface_covered_in_m2\"] = datos['surface_covered_in_m2'].fillna(datos['surface_total_in_m2'])\n",
    "  \n",
    "    \n",
    "    #relleno el piso y las habitaciones con la moda del barrio\n",
    "    datos[\"floor\"] = datos.groupby('place_name')['floor'].fillna(datos.dropna(subset=['floor']).floor.value_counts().idxmax())\n",
    "    datos[\"rooms\"] = datos.groupby('place_name')['rooms'].fillna(datos.dropna(subset=['rooms']).floor.value_counts().idxmax())\n",
    "    \n",
    "    \n",
    "    \n",
    "     #si en el campo de las expensas dice no, entonces le asigno expensas cero\n",
    "    datos[\"expenses\"] = datos[\"expenses\"].map(lambda exp: \"0\" if(re.search(str(exp), 'no', re.IGNORECASE)) else str(exp))\n",
    "                                                            \n",
    "    #si no tiene un valor numerico lo cambio a nan para luego asignarle el promedio del barrio                                                   \n",
    "    datos[\"expenses\"] = datos[\"expenses\"].map(lambda exp: re.sub(\"[^0-9]\", \"\",str(exp) ))\n",
    "    datos[\"expenses\"] = datos[\"expenses\"].map(lambda exp: np.NaN if(str(exp)== \"\") else exp)\n",
    "    datos[\"expenses\"] = datos[\"expenses\"].map(lambda exp: float(exp))\n",
    "    datos[\"expenses\"] = datos.groupby('place_name')['expenses'].apply(lambda x: x.fillna(x.mean()))\n",
    "    \n",
    "    \n",
    "    #por si queda algun nan\n",
    "    datos.fillna(0, inplace=True)\n",
    "    \n",
    "    return datos"
   ]
  },
  {
   "cell_type": "code",
   "execution_count": 26,
   "metadata": {
    "collapsed": true
   },
   "outputs": [],
   "source": [
    "def delete_signs(text):\n",
    "    return ''.join([i if ord(i) < 128 else ' ' for i in text])\n",
    "def delete_accent_mark(s):\n",
    "    return ''.join((c for c in unicodedata.normalize('NFD', s) if unicodedata.category(c) != 'Mn'))\n",
    "\n",
    "def unificate_description(d):\n",
    "    if(pd.notnull(d)):\n",
    "        return delete_signs(delete_accent_mark(d).lower())\n",
    "    return d\n",
    "    "
   ]
  },
  {
   "cell_type": "code",
   "execution_count": 43,
   "metadata": {
    "collapsed": true
   },
   "outputs": [],
   "source": [
    "#lista con todos los barrios posibles sin repetir (sin tildes y en minuscula)\n",
    "def get_neighborhoods(properati_df,nombre_conj_barios):\n",
    "    neighborhoods = properati_df[pd.notnull(properati_df['place_name'])].place_name\n",
    "    neighborhoods = neighborhoods.drop_duplicates(keep='first')\n",
    "    neighborhoods = neighborhoods.map(lambda b: delete_accent_mark(b).lower())\n",
    "    neighborhoods.replace(nombre_conj_barios, \"sin barrio\", inplace = True)\n",
    "    return neighborhoods\n",
    "\n",
    "\n",
    "\n",
    "def get_place_name(data):\n",
    "    print data.columns.values\n",
    "    places =[]\n",
    "    for index, row in data.iterrows():\n",
    "        if(pd.notnull(row['place_name_y']) and (row['place_name_y']!=\"sin barrio\") ):\n",
    "            places.append(row['place_name_y'].title())\n",
    "        else:\n",
    "            if(pd.notnull(row['place_name_x'])):\n",
    "                places.append(row['place_name_x'].title())\n",
    "            else:\n",
    "                places.append(row['place_name_x'])\n",
    "    return places\n",
    "\n",
    "\n",
    "\n",
    "def assign_neighborhoods(description,neighborhoods):\n",
    "    for neighborhood in neighborhoods:\n",
    "        if(str(description.encode('utf-8')).find(neighborhood) >= 0):\n",
    "              return neighborhood\n",
    "    return \"sin barrio\"\n",
    "\n",
    "\n",
    "\n",
    "\n",
    "def guess_neighborhoods(df,  nombre_conj_barios):\n",
    "    \n",
    "    neighborhoods = get_neighborhoods(df,nombre_conj_barios)\n",
    "\n",
    "    sin_barrio = df.loc[df.place_name.str.contains(nombre_conj_barios , na=False),:]\n",
    "    sin_barrio = pd.concat([sin_barrio,df.loc[pd.isnull(df.place_name),:]])\n",
    "    sin_barrio.place_name = sin_barrio.description.map(lambda description: assign_neighborhoods(description,neighborhoods))\n",
    "\n",
    "    \n",
    "    barrio_asignado = sin_barrio.loc[sin_barrio.place_name.str.contains(\"sin barrio\", na=False) == False,:]\n",
    "    \n",
    "\n",
    "    columns =['country_name', 'created_on', 'currency', 'description',\n",
    "       'expenses', 'extra', 'floor', 'geonames_id', 'id',\n",
    "       'image_thumbnail', 'lat', 'lat-lon', 'lon', 'operation',\n",
    "       'place_with_parent_names', 'price',\n",
    "       'price_aprox_local_currency', 'price_aprox_usd', 'price_per_m2',\n",
    "       'price_usd_per_m2', 'properati_url', 'property_type', 'rooms',\n",
    "       'state_name', 'surface_covered_in_m2', 'surface_in_m2',\n",
    "       'surface_total_in_m2', 'title','set']\n",
    "    \n",
    "    \n",
    "    properati_barrios = pd.merge(df, barrio_asignado,how='outer', on=columns)\n",
    "    \n",
    "    properati_barrios['place_name']= get_place_name(properati_barrios)\n",
    "    columns.append('place_name')\n",
    "    properati_barrios=properati_barrios.loc[:,columns]\n",
    "    \n",
    "    return properati_barrios"
   ]
  },
  {
   "cell_type": "code",
   "execution_count": 44,
   "metadata": {
    "collapsed": true
   },
   "outputs": [],
   "source": [
    "def get_df_properati_to_predict(df):\n",
    "\n",
    "    df.description = df.description.map(lambda d: unificate_description(d))\n",
    "    \n",
    "    guess_neighborhoods(df,\"Capital Federal\")\n",
    "    guess_neighborhoods(df,\"Buenos Aires Interior\")\n",
    "    \n",
    "    return fill_nan_and_convert_to_float(df)"
   ]
  },
  {
   "cell_type": "code",
   "execution_count": 45,
   "metadata": {},
   "outputs": [
    {
     "ename": "KeyboardInterrupt",
     "evalue": "",
     "output_type": "error",
     "traceback": [
      "\u001b[0;31m---------------------------------------------------------------------------\u001b[0m",
      "\u001b[0;31mKeyboardInterrupt\u001b[0m                         Traceback (most recent call last)",
      "\u001b[0;32m<ipython-input-45-52204c1a9dca>\u001b[0m in \u001b[0;36m<module>\u001b[0;34m()\u001b[0m\n\u001b[1;32m      7\u001b[0m \u001b[0mdf_train_and_predict\u001b[0m \u001b[0;34m=\u001b[0m \u001b[0mpd\u001b[0m\u001b[0;34m.\u001b[0m\u001b[0mconcat\u001b[0m\u001b[0;34m(\u001b[0m\u001b[0;34m[\u001b[0m\u001b[0mproperati_filtered\u001b[0m\u001b[0;34m,\u001b[0m\u001b[0mproperati_no_price\u001b[0m\u001b[0;34m]\u001b[0m\u001b[0;34m)\u001b[0m\u001b[0;34m\u001b[0m\u001b[0m\n\u001b[1;32m      8\u001b[0m \u001b[0;34m\u001b[0m\u001b[0m\n\u001b[0;32m----> 9\u001b[0;31m \u001b[0mget_df_properati_to_predict\u001b[0m\u001b[0;34m(\u001b[0m\u001b[0mdf_train_and_predict\u001b[0m\u001b[0;34m)\u001b[0m\u001b[0;34m\u001b[0m\u001b[0m\n\u001b[0m",
      "\u001b[0;32m<ipython-input-44-2d214a73f615>\u001b[0m in \u001b[0;36mget_df_properati_to_predict\u001b[0;34m(df)\u001b[0m\n\u001b[1;32m      1\u001b[0m \u001b[0;32mdef\u001b[0m \u001b[0mget_df_properati_to_predict\u001b[0m\u001b[0;34m(\u001b[0m\u001b[0mdf\u001b[0m\u001b[0;34m)\u001b[0m\u001b[0;34m:\u001b[0m\u001b[0;34m\u001b[0m\u001b[0m\n\u001b[1;32m      2\u001b[0m \u001b[0;34m\u001b[0m\u001b[0m\n\u001b[0;32m----> 3\u001b[0;31m     \u001b[0mdf\u001b[0m\u001b[0;34m.\u001b[0m\u001b[0mdescription\u001b[0m \u001b[0;34m=\u001b[0m \u001b[0mdf\u001b[0m\u001b[0;34m.\u001b[0m\u001b[0mdescription\u001b[0m\u001b[0;34m.\u001b[0m\u001b[0mmap\u001b[0m\u001b[0;34m(\u001b[0m\u001b[0;32mlambda\u001b[0m \u001b[0md\u001b[0m\u001b[0;34m:\u001b[0m \u001b[0munificate_description\u001b[0m\u001b[0;34m(\u001b[0m\u001b[0md\u001b[0m\u001b[0;34m)\u001b[0m\u001b[0;34m)\u001b[0m\u001b[0;34m\u001b[0m\u001b[0m\n\u001b[0m\u001b[1;32m      4\u001b[0m \u001b[0;34m\u001b[0m\u001b[0m\n\u001b[1;32m      5\u001b[0m     \u001b[0mguess_neighborhoods\u001b[0m\u001b[0;34m(\u001b[0m\u001b[0mdf\u001b[0m\u001b[0;34m,\u001b[0m\u001b[0;34m\"Capital Federal\"\u001b[0m\u001b[0;34m)\u001b[0m\u001b[0;34m\u001b[0m\u001b[0m\n",
      "\u001b[0;32m/home/jaz/fiuba/orga-de-datos-7506/lib/python2.7/site-packages/pandas/core/series.pyc\u001b[0m in \u001b[0;36mmap\u001b[0;34m(self, arg, na_action)\u001b[0m\n\u001b[1;32m   2156\u001b[0m         \u001b[0;32melse\u001b[0m\u001b[0;34m:\u001b[0m\u001b[0;34m\u001b[0m\u001b[0m\n\u001b[1;32m   2157\u001b[0m             \u001b[0;31m# arg is a function\u001b[0m\u001b[0;34m\u001b[0m\u001b[0;34m\u001b[0m\u001b[0m\n\u001b[0;32m-> 2158\u001b[0;31m             \u001b[0mnew_values\u001b[0m \u001b[0;34m=\u001b[0m \u001b[0mmap_f\u001b[0m\u001b[0;34m(\u001b[0m\u001b[0mvalues\u001b[0m\u001b[0;34m,\u001b[0m \u001b[0marg\u001b[0m\u001b[0;34m)\u001b[0m\u001b[0;34m\u001b[0m\u001b[0m\n\u001b[0m\u001b[1;32m   2159\u001b[0m \u001b[0;34m\u001b[0m\u001b[0m\n\u001b[1;32m   2160\u001b[0m         return self._constructor(new_values,\n",
      "\u001b[0;32mpandas/_libs/src/inference.pyx\u001b[0m in \u001b[0;36mpandas._libs.lib.map_infer (pandas/_libs/lib.c:66440)\u001b[0;34m()\u001b[0m\n",
      "\u001b[0;32m<ipython-input-44-2d214a73f615>\u001b[0m in \u001b[0;36m<lambda>\u001b[0;34m(d)\u001b[0m\n\u001b[1;32m      1\u001b[0m \u001b[0;32mdef\u001b[0m \u001b[0mget_df_properati_to_predict\u001b[0m\u001b[0;34m(\u001b[0m\u001b[0mdf\u001b[0m\u001b[0;34m)\u001b[0m\u001b[0;34m:\u001b[0m\u001b[0;34m\u001b[0m\u001b[0m\n\u001b[1;32m      2\u001b[0m \u001b[0;34m\u001b[0m\u001b[0m\n\u001b[0;32m----> 3\u001b[0;31m     \u001b[0mdf\u001b[0m\u001b[0;34m.\u001b[0m\u001b[0mdescription\u001b[0m \u001b[0;34m=\u001b[0m \u001b[0mdf\u001b[0m\u001b[0;34m.\u001b[0m\u001b[0mdescription\u001b[0m\u001b[0;34m.\u001b[0m\u001b[0mmap\u001b[0m\u001b[0;34m(\u001b[0m\u001b[0;32mlambda\u001b[0m \u001b[0md\u001b[0m\u001b[0;34m:\u001b[0m \u001b[0munificate_description\u001b[0m\u001b[0;34m(\u001b[0m\u001b[0md\u001b[0m\u001b[0;34m)\u001b[0m\u001b[0;34m)\u001b[0m\u001b[0;34m\u001b[0m\u001b[0m\n\u001b[0m\u001b[1;32m      4\u001b[0m \u001b[0;34m\u001b[0m\u001b[0m\n\u001b[1;32m      5\u001b[0m     \u001b[0mguess_neighborhoods\u001b[0m\u001b[0;34m(\u001b[0m\u001b[0mdf\u001b[0m\u001b[0;34m,\u001b[0m\u001b[0;34m\"Capital Federal\"\u001b[0m\u001b[0;34m)\u001b[0m\u001b[0;34m\u001b[0m\u001b[0m\n",
      "\u001b[0;32m<ipython-input-26-90c9ece502e6>\u001b[0m in \u001b[0;36munificate_description\u001b[0;34m(d)\u001b[0m\n\u001b[1;32m      6\u001b[0m \u001b[0;32mdef\u001b[0m \u001b[0munificate_description\u001b[0m\u001b[0;34m(\u001b[0m\u001b[0md\u001b[0m\u001b[0;34m)\u001b[0m\u001b[0;34m:\u001b[0m\u001b[0;34m\u001b[0m\u001b[0m\n\u001b[1;32m      7\u001b[0m     \u001b[0;32mif\u001b[0m\u001b[0;34m(\u001b[0m\u001b[0mpd\u001b[0m\u001b[0;34m.\u001b[0m\u001b[0mnotnull\u001b[0m\u001b[0;34m(\u001b[0m\u001b[0md\u001b[0m\u001b[0;34m)\u001b[0m\u001b[0;34m)\u001b[0m\u001b[0;34m:\u001b[0m\u001b[0;34m\u001b[0m\u001b[0m\n\u001b[0;32m----> 8\u001b[0;31m         \u001b[0;32mreturn\u001b[0m \u001b[0mdelete_signs\u001b[0m\u001b[0;34m(\u001b[0m\u001b[0mdelete_accent_mark\u001b[0m\u001b[0;34m(\u001b[0m\u001b[0md\u001b[0m\u001b[0;34m)\u001b[0m\u001b[0;34m.\u001b[0m\u001b[0mlower\u001b[0m\u001b[0;34m(\u001b[0m\u001b[0;34m)\u001b[0m\u001b[0;34m)\u001b[0m\u001b[0;34m\u001b[0m\u001b[0m\n\u001b[0m\u001b[1;32m      9\u001b[0m     \u001b[0;32mreturn\u001b[0m \u001b[0md\u001b[0m\u001b[0;34m\u001b[0m\u001b[0m\n\u001b[1;32m     10\u001b[0m \u001b[0;34m\u001b[0m\u001b[0m\n",
      "\u001b[0;32m<ipython-input-26-90c9ece502e6>\u001b[0m in \u001b[0;36mdelete_accent_mark\u001b[0;34m(s)\u001b[0m\n\u001b[1;32m      2\u001b[0m     \u001b[0;32mreturn\u001b[0m \u001b[0;34m''\u001b[0m\u001b[0;34m.\u001b[0m\u001b[0mjoin\u001b[0m\u001b[0;34m(\u001b[0m\u001b[0;34m[\u001b[0m\u001b[0mi\u001b[0m \u001b[0;32mif\u001b[0m \u001b[0mord\u001b[0m\u001b[0;34m(\u001b[0m\u001b[0mi\u001b[0m\u001b[0;34m)\u001b[0m \u001b[0;34m<\u001b[0m \u001b[0;36m128\u001b[0m \u001b[0;32melse\u001b[0m \u001b[0;34m' '\u001b[0m \u001b[0;32mfor\u001b[0m \u001b[0mi\u001b[0m \u001b[0;32min\u001b[0m \u001b[0mtext\u001b[0m\u001b[0;34m]\u001b[0m\u001b[0;34m)\u001b[0m\u001b[0;34m\u001b[0m\u001b[0m\n\u001b[1;32m      3\u001b[0m \u001b[0;32mdef\u001b[0m \u001b[0mdelete_accent_mark\u001b[0m\u001b[0;34m(\u001b[0m\u001b[0ms\u001b[0m\u001b[0;34m)\u001b[0m\u001b[0;34m:\u001b[0m\u001b[0;34m\u001b[0m\u001b[0m\n\u001b[0;32m----> 4\u001b[0;31m     \u001b[0;32mreturn\u001b[0m \u001b[0;34m''\u001b[0m\u001b[0;34m.\u001b[0m\u001b[0mjoin\u001b[0m\u001b[0;34m(\u001b[0m\u001b[0;34m(\u001b[0m\u001b[0mc\u001b[0m \u001b[0;32mfor\u001b[0m \u001b[0mc\u001b[0m \u001b[0;32min\u001b[0m \u001b[0municodedata\u001b[0m\u001b[0;34m.\u001b[0m\u001b[0mnormalize\u001b[0m\u001b[0;34m(\u001b[0m\u001b[0;34m'NFD'\u001b[0m\u001b[0;34m,\u001b[0m \u001b[0ms\u001b[0m\u001b[0;34m)\u001b[0m \u001b[0;32mif\u001b[0m \u001b[0municodedata\u001b[0m\u001b[0;34m.\u001b[0m\u001b[0mcategory\u001b[0m\u001b[0;34m(\u001b[0m\u001b[0mc\u001b[0m\u001b[0;34m)\u001b[0m \u001b[0;34m!=\u001b[0m \u001b[0;34m'Mn'\u001b[0m\u001b[0;34m)\u001b[0m\u001b[0;34m)\u001b[0m\u001b[0;34m\u001b[0m\u001b[0m\n\u001b[0m\u001b[1;32m      5\u001b[0m \u001b[0;34m\u001b[0m\u001b[0m\n\u001b[1;32m      6\u001b[0m \u001b[0;32mdef\u001b[0m \u001b[0munificate_description\u001b[0m\u001b[0;34m(\u001b[0m\u001b[0md\u001b[0m\u001b[0;34m)\u001b[0m\u001b[0;34m:\u001b[0m\u001b[0;34m\u001b[0m\u001b[0m\n",
      "\u001b[0;31mKeyboardInterrupt\u001b[0m: "
     ]
    }
   ],
   "source": [
    "properati_no_price= pd.read_csv('../tp1/properati_dataset_testing_noprice.csv',encoding='UTF-8')\n",
    "properati_no_price['set'] = properati_no_price.id.map(lambda id: \"to_predict\")\n",
    "\n",
    "properati_filtered= pd.read_csv('../tp1/properati_filtered1.csv',encoding='UTF-8')\n",
    "properati_filtered['set'] = properati_no_price.id.map(lambda id: \"to_train\")\n",
    "\n",
    "df_train_and_predict = pd.concat([properati_filtered,properati_no_price])\n",
    "\n",
    "get_df_properati_to_predict(df_train_and_predict)"
   ]
  },
  {
   "cell_type": "code",
   "execution_count": null,
   "metadata": {
    "collapsed": true
   },
   "outputs": [],
   "source": [
    "\n",
    "\n",
    "\n"
   ]
  }
 ],
 "metadata": {
  "kernelspec": {
   "display_name": "Python 2",
   "language": "python",
   "name": "python2"
  },
  "language_info": {
   "codemirror_mode": {
    "name": "ipython",
    "version": 2
   },
   "file_extension": ".py",
   "mimetype": "text/x-python",
   "name": "python",
   "nbconvert_exporter": "python",
   "pygments_lexer": "ipython2",
   "version": "2.7.13"
  }
 },
 "nbformat": 4,
 "nbformat_minor": 2
}
